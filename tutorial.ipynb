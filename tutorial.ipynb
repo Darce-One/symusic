{
  "cells": [
    {
      "cell_type": "code",
      "execution_count": 1,
      "metadata": {
        "colab": {
          "base_uri": "https://localhost:8080/"
        },
        "id": "1jC9CYFpLUFK",
        "outputId": "f38c5041-f815-472c-a9ad-a74ec2c056ee"
      },
      "outputs": [
        {
          "output_type": "stream",
          "name": "stdout",
          "text": [
            "Requirement already satisfied: symusic in /usr/local/lib/python3.10/dist-packages (0.0.6)\n",
            "Requirement already satisfied: mido in /usr/local/lib/python3.10/dist-packages (1.3.0)\n",
            "Requirement already satisfied: pretty_midi in /usr/local/lib/python3.10/dist-packages (0.2.10)\n",
            "Requirement already satisfied: miditoolkit in /usr/local/lib/python3.10/dist-packages (1.0.1)\n",
            "Requirement already satisfied: music21 in /usr/local/lib/python3.10/dist-packages (9.1.0)\n",
            "Requirement already satisfied: numpy>=1.20 in /usr/local/lib/python3.10/dist-packages (from symusic) (1.23.5)\n",
            "Requirement already satisfied: packaging~=23.1 in /usr/local/lib/python3.10/dist-packages (from mido) (23.2)\n",
            "Requirement already satisfied: six in /usr/local/lib/python3.10/dist-packages (from pretty_midi) (1.16.0)\n",
            "Requirement already satisfied: matplotlib in /usr/local/lib/python3.10/dist-packages (from miditoolkit) (3.7.1)\n",
            "Requirement already satisfied: chardet in /usr/local/lib/python3.10/dist-packages (from music21) (5.2.0)\n",
            "Requirement already satisfied: joblib in /usr/local/lib/python3.10/dist-packages (from music21) (1.3.2)\n",
            "Requirement already satisfied: jsonpickle in /usr/local/lib/python3.10/dist-packages (from music21) (3.0.2)\n",
            "Requirement already satisfied: more-itertools in /usr/local/lib/python3.10/dist-packages (from music21) (10.1.0)\n",
            "Requirement already satisfied: requests in /usr/local/lib/python3.10/dist-packages (from music21) (2.31.0)\n",
            "Requirement already satisfied: webcolors>=1.5 in /usr/local/lib/python3.10/dist-packages (from music21) (1.13)\n",
            "Requirement already satisfied: contourpy>=1.0.1 in /usr/local/lib/python3.10/dist-packages (from matplotlib->miditoolkit) (1.2.0)\n",
            "Requirement already satisfied: cycler>=0.10 in /usr/local/lib/python3.10/dist-packages (from matplotlib->miditoolkit) (0.12.1)\n",
            "Requirement already satisfied: fonttools>=4.22.0 in /usr/local/lib/python3.10/dist-packages (from matplotlib->miditoolkit) (4.44.3)\n",
            "Requirement already satisfied: kiwisolver>=1.0.1 in /usr/local/lib/python3.10/dist-packages (from matplotlib->miditoolkit) (1.4.5)\n",
            "Requirement already satisfied: pillow>=6.2.0 in /usr/local/lib/python3.10/dist-packages (from matplotlib->miditoolkit) (9.4.0)\n",
            "Requirement already satisfied: pyparsing>=2.3.1 in /usr/local/lib/python3.10/dist-packages (from matplotlib->miditoolkit) (3.1.1)\n",
            "Requirement already satisfied: python-dateutil>=2.7 in /usr/local/lib/python3.10/dist-packages (from matplotlib->miditoolkit) (2.8.2)\n",
            "Requirement already satisfied: charset-normalizer<4,>=2 in /usr/local/lib/python3.10/dist-packages (from requests->music21) (3.3.2)\n",
            "Requirement already satisfied: idna<4,>=2.5 in /usr/local/lib/python3.10/dist-packages (from requests->music21) (3.4)\n",
            "Requirement already satisfied: urllib3<3,>=1.21.1 in /usr/local/lib/python3.10/dist-packages (from requests->music21) (2.0.7)\n",
            "Requirement already satisfied: certifi>=2017.4.17 in /usr/local/lib/python3.10/dist-packages (from requests->music21) (2023.7.22)\n"
          ]
        }
      ],
      "source": [
        "!pip install symusic mido pretty_midi miditoolkit music21"
      ]
    },
    {
      "cell_type": "code",
      "execution_count": 2,
      "metadata": {
        "colab": {
          "base_uri": "https://localhost:8080/"
        },
        "id": "oygHeqhtLUFM",
        "outputId": "09aad19a-783f-4288-8dd3-b568c9b983c7"
      },
      "outputs": [
        {
          "output_type": "stream",
          "name": "stdout",
          "text": [
            "--2023-11-26 16:29:28--  https://github.com/lzqlzzq/minimidi/raw/main/example/mahler.mid\n",
            "Resolving github.com (github.com)... 20.29.134.23\n",
            "Connecting to github.com (github.com)|20.29.134.23|:443... connected.\n",
            "HTTP request sent, awaiting response... 302 Found\n",
            "Location: https://raw.githubusercontent.com/lzqlzzq/minimidi/main/example/mahler.mid [following]\n",
            "--2023-11-26 16:29:28--  https://raw.githubusercontent.com/lzqlzzq/minimidi/main/example/mahler.mid\n",
            "Resolving raw.githubusercontent.com (raw.githubusercontent.com)... 185.199.108.133, 185.199.109.133, 185.199.110.133, ...\n",
            "Connecting to raw.githubusercontent.com (raw.githubusercontent.com)|185.199.108.133|:443... connected.\n",
            "HTTP request sent, awaiting response... 200 OK\n",
            "Length: 478769 (468K) [audio/midi]\n",
            "Saving to: ‘mahler.mid.4’\n",
            "\n",
            "mahler.mid.4        100%[===================>] 467.55K  --.-KB/s    in 0.03s   \n",
            "\n",
            "2023-11-26 16:29:28 (15.4 MB/s) - ‘mahler.mid.4’ saved [478769/478769]\n",
            "\n"
          ]
        }
      ],
      "source": [
        "!wget https://github.com/lzqlzzq/minimidi/raw/main/example/mahler.mid"
      ]
    },
    {
      "cell_type": "markdown",
      "metadata": {
        "id": "gPtW8uG4LUFN"
      },
      "source": [
        "# Load MIDI File\n",
        "\n",
        "* print each objects in symusic could get the corresponding summaries\n",
        "* Time unit is a quarter.\n",
        "* A *pyi* file have been generated, you can browse the members and functions of each class in it."
      ]
    },
    {
      "cell_type": "code",
      "execution_count": 3,
      "metadata": {
        "colab": {
          "base_uri": "https://localhost:8080/"
        },
        "id": "lO5sIUDOLUFO",
        "outputId": "8c48c5c7-84c6-4106-97e6-e6f3fcfb36bf"
      },
      "outputs": [
        {
          "output_type": "stream",
          "name": "stdout",
          "text": [
            "<Score track_num=16, note_num=35816, end_time=3554.000000>\n",
            "note_num:  35816\n",
            "start_time:  3.0\n",
            "end_time:  3554.0\n"
          ]
        }
      ],
      "source": [
        "from symusic import Score\n",
        "score = Score(\"mahler.mid\")\n",
        "print(score)\n",
        "print(\"note_num: \", score.note_num())\n",
        "print(\"start_time: \", score.start_time())\n",
        "print(\"end_time: \", score.end_time())\n"
      ]
    },
    {
      "cell_type": "code",
      "source": [
        "print(score.tempos)\n",
        "print(score.key_signatures)\n",
        "print(score.time_signatures)"
      ],
      "metadata": {
        "colab": {
          "base_uri": "https://localhost:8080/"
        },
        "id": "v6b6VcS3bQLT",
        "outputId": "ff8f0c88-3bb3-475a-e008-2e1d95eda2de"
      },
      "execution_count": 4,
      "outputs": [
        {
          "output_type": "stream",
          "name": "stdout",
          "text": [
            "<TempoList length=3333>\n",
            "<KeySignatureList length=1>\n",
            "<TimeSignatureList length=44>\n"
          ]
        }
      ]
    },
    {
      "cell_type": "code",
      "execution_count": 5,
      "metadata": {
        "colab": {
          "base_uri": "https://localhost:8080/"
        },
        "id": "FYkaBzW-LUFP",
        "outputId": "632e695a-c9c6-415e-d704-d71d019f4c24"
      },
      "outputs": [
        {
          "output_type": "stream",
          "name": "stdout",
          "text": [
            "<Tempo time=0.000000, qpm=107.999916>\n",
            "C\n",
            "<TimeSignature time=0.000000, numerator=8, denominator=4>\n"
          ]
        }
      ],
      "source": [
        "print(score.tempos[0])\n",
        "print(score.key_signatures[0])\n",
        "print(score.time_signatures[0])"
      ]
    },
    {
      "cell_type": "code",
      "execution_count": 6,
      "metadata": {
        "colab": {
          "base_uri": "https://localhost:8080/"
        },
        "id": "XdzfTIMULUFP",
        "outputId": "4eef7993-dfee-4550-84d6-ec1cd49cf5d0"
      },
      "outputs": [
        {
          "output_type": "stream",
          "name": "stdout",
          "text": [
            "<TrackList length=16>\n",
            "<Track name=\"flute/picc\", program=73, is_drum=False, note_num=2490, end_time=3554.000000>\n",
            "track name:  flute/picc\n",
            "is_drum:  False\n",
            "note_num:  2490\n",
            "<NoteList length=2490>\n",
            "<Note start=533.000000, dur=2.000000, pitch=77, vel=100>\n"
          ]
        }
      ],
      "source": [
        "print(score.tracks)\n",
        "print(score.tracks[0])\n",
        "print(\"track name: \", score.tracks[0].name)\n",
        "print(\"is_drum: \", score.tracks[0].is_drum)\n",
        "print(\"note_num: \", score.tracks[0].note_num())\n",
        "print(score.tracks[0].notes)\n",
        "print(score.tracks[0].notes[0])"
      ]
    },
    {
      "cell_type": "code",
      "execution_count": 7,
      "metadata": {
        "colab": {
          "base_uri": "https://localhost:8080/"
        },
        "id": "yrl6VKzwLUFQ",
        "outputId": "cbdb5d73-d13a-40fa-95c9-29d780adbedc"
      },
      "outputs": [
        {
          "output_type": "stream",
          "name": "stdout",
          "text": [
            "start:\t\t 533.0\n",
            "duration:\t 2.0\n",
            "pitch:\t\t 77\n",
            "velocity:\t 100\n"
          ]
        }
      ],
      "source": [
        "note = score.tracks[0].notes[0]\n",
        "print(\"start:\\t\\t\", note.start)\n",
        "print(\"duration:\\t\", note.duration)\n",
        "print(\"pitch:\\t\\t\", note.pitch)\n",
        "print(\"velocity:\\t\", note.velocity)"
      ]
    },
    {
      "cell_type": "markdown",
      "source": [
        "# Bach Processing\n",
        "\n",
        "* sort (in place)\n",
        "* shift_time\n",
        "* shift_pitch\n",
        "* shift_velocity\n",
        "* clip(start: float, end: float, clip_end: bool)\n",
        "* filter_notes(func: Callable)\n",
        "* note_array"
      ],
      "metadata": {
        "id": "iaOZNxk6Yp88"
      }
    },
    {
      "cell_type": "code",
      "source": [
        "# inplace operation\n",
        "print(score.sort())\n",
        "print(score.tracks[0].sort())"
      ],
      "metadata": {
        "colab": {
          "base_uri": "https://localhost:8080/"
        },
        "id": "PYn1Fc9MYpGx",
        "outputId": "7763477f-c5ee-4799-acbe-a81fce3567a0"
      },
      "execution_count": 8,
      "outputs": [
        {
          "output_type": "stream",
          "name": "stdout",
          "text": [
            "<Score track_num=16, note_num=35816, end_time=3554.000000>\n",
            "<Track name=\"flute/picc\", program=73, is_drum=False, note_num=2490, end_time=3554.000000>\n"
          ]
        }
      ]
    },
    {
      "cell_type": "code",
      "source": [
        "# method chaining\n",
        "score.shift_time(10) \\\n",
        "     .shift_pitch(-10) \\\n",
        "     .shift_velocity(10) \\\n",
        "     .sort() \\\n",
        "     .copy() # deepcopy"
      ],
      "metadata": {
        "colab": {
          "base_uri": "https://localhost:8080/"
        },
        "id": "0u3hr6AGZFnR",
        "outputId": "db303e7b-8ea7-49d8-e6ae-f53400c4094c"
      },
      "execution_count": 9,
      "outputs": [
        {
          "output_type": "execute_result",
          "data": {
            "text/plain": [
              "<Score track_num=16, note_num=0, end_time=0.000000>"
            ]
          },
          "metadata": {},
          "execution_count": 9
        }
      ]
    },
    {
      "cell_type": "code",
      "source": [
        "score.clip(10, 100, True) # start: float, end: float, clip_end: bool"
      ],
      "metadata": {
        "colab": {
          "base_uri": "https://localhost:8080/"
        },
        "id": "GGcz6q0yZoh6",
        "outputId": "4e22d9d7-467f-41cb-df90-08118fe1897e"
      },
      "execution_count": 10,
      "outputs": [
        {
          "output_type": "execute_result",
          "data": {
            "text/plain": [
              "<Score track_num=16, note_num=476, end_time=99.852081>"
            ]
          },
          "metadata": {},
          "execution_count": 10
        }
      ]
    },
    {
      "cell_type": "code",
      "source": [
        "score.filter_notes(lambda note: note.pitch > 60)"
      ],
      "metadata": {
        "colab": {
          "base_uri": "https://localhost:8080/"
        },
        "id": "Y06tWHBOauoe",
        "outputId": "3f20e1ed-b981-4cfb-dd5e-faf32e62fe33"
      },
      "execution_count": 11,
      "outputs": [
        {
          "output_type": "execute_result",
          "data": {
            "text/plain": [
              "<Score track_num=16, note_num=17300, end_time=3549.500000>"
            ]
          },
          "metadata": {},
          "execution_count": 11
        }
      ]
    },
    {
      "cell_type": "code",
      "source": [
        "note_arr = score.tracks[0].note_array()\n",
        "print(note_arr)\n",
        "print(type(note_arr.pitch), note_arr.pitch)\n",
        "print(type(note_arr.velocity), note_arr.velocity)\n",
        "print(type(note_arr.start), note_arr.start)\n",
        "print(type(note_arr.duration), note_arr.duration)"
      ],
      "metadata": {
        "colab": {
          "base_uri": "https://localhost:8080/"
        },
        "id": "88cp3DALchG1",
        "outputId": "2203e526-f785-43c0-c41d-1107e0db2ccc"
      },
      "execution_count": 12,
      "outputs": [
        {
          "output_type": "stream",
          "name": "stdout",
          "text": [
            "<NoteArray name=\"flute/picc\", program=73, note_num=2490>\n",
            "<class 'numpy.ndarray'> [ 77  82  70 ... 101  23  24]\n",
            "<class 'numpy.ndarray'> [100 100 100 ... 100 100 100]\n",
            "<class 'numpy.ndarray'> [ 533.  533.  533. ... 3549. 3553. 3553.]\n",
            "<class 'numpy.ndarray'> [2.  2.  2.  ... 0.5 1.  1. ]\n"
          ]
        }
      ]
    },
    {
      "cell_type": "code",
      "source": [
        "frame_pianoroll = score.tracks[0].frame_pianoroll(quantization=24)\n",
        "print(\"frame_pianoroll\", frame_pianoroll.dtype, frame_pianoroll.shape)\n",
        "onset_pianoroll = score.tracks[0].onset_pianoroll(quantization=16)\n",
        "print(\"onset_pianoroll\", onset_pianoroll.dtype, onset_pianoroll.shape)"
      ],
      "metadata": {
        "colab": {
          "base_uri": "https://localhost:8080/"
        },
        "id": "eiU2D9XDc30t",
        "outputId": "e284d341-c07d-49dd-e64f-6aba03ae9566"
      },
      "execution_count": 13,
      "outputs": [
        {
          "output_type": "stream",
          "name": "stdout",
          "text": [
            "frame_pianoroll bool (128, 21324)\n",
            "onset_pianoroll bool (128, 14216)\n"
          ]
        }
      ]
    },
    {
      "cell_type": "markdown",
      "metadata": {
        "id": "TunMY7rGLUFQ"
      },
      "source": [
        "# Benchmark\n",
        "\n",
        "## MIDI Parsing\n",
        "\n",
        "* mido is writen in pure python, and only parsing midi file to event level\n",
        "* pretty_midi and miditoolkit is based on mido"
      ]
    },
    {
      "cell_type": "code",
      "execution_count": 14,
      "metadata": {
        "colab": {
          "base_uri": "https://localhost:8080/"
        },
        "id": "ihVpllc6LUFQ",
        "outputId": "30e3d4c7-0975-422b-d984-5f8378445a3b"
      },
      "outputs": [
        {
          "output_type": "stream",
          "name": "stdout",
          "text": [
            "Requirement already satisfied: jill in /usr/local/lib/python3.10/dist-packages (0.11.5)\n",
            "Requirement already satisfied: fire<0.6.0,>=0.5.0 in /usr/local/lib/python3.10/dist-packages (from jill) (0.5.0)\n",
            "Requirement already satisfied: jsonschema<5.0.0,>=4.17.3 in /usr/local/lib/python3.10/dist-packages (from jill) (4.19.2)\n",
            "Requirement already satisfied: python-gnupg<0.6.0,>=0.5.0 in /usr/local/lib/python3.10/dist-packages (from jill) (0.5.1)\n",
            "Requirement already satisfied: requests<3.0.0,>=2.28.2 in /usr/local/lib/python3.10/dist-packages (from jill) (2.31.0)\n",
            "Requirement already satisfied: requests-futures<2.0.0,>=1.0.0 in /usr/local/lib/python3.10/dist-packages (from jill) (1.0.1)\n",
            "Requirement already satisfied: semantic-version<3.0.0,>=2.10.0 in /usr/local/lib/python3.10/dist-packages (from jill) (2.10.0)\n",
            "Requirement already satisfied: wget<4.0,>=3.2 in /usr/local/lib/python3.10/dist-packages (from jill) (3.2)\n",
            "Requirement already satisfied: six in /usr/local/lib/python3.10/dist-packages (from fire<0.6.0,>=0.5.0->jill) (1.16.0)\n",
            "Requirement already satisfied: termcolor in /usr/local/lib/python3.10/dist-packages (from fire<0.6.0,>=0.5.0->jill) (2.3.0)\n",
            "Requirement already satisfied: attrs>=22.2.0 in /usr/local/lib/python3.10/dist-packages (from jsonschema<5.0.0,>=4.17.3->jill) (23.1.0)\n",
            "Requirement already satisfied: jsonschema-specifications>=2023.03.6 in /usr/local/lib/python3.10/dist-packages (from jsonschema<5.0.0,>=4.17.3->jill) (2023.11.1)\n",
            "Requirement already satisfied: referencing>=0.28.4 in /usr/local/lib/python3.10/dist-packages (from jsonschema<5.0.0,>=4.17.3->jill) (0.31.0)\n",
            "Requirement already satisfied: rpds-py>=0.7.1 in /usr/local/lib/python3.10/dist-packages (from jsonschema<5.0.0,>=4.17.3->jill) (0.13.0)\n",
            "Requirement already satisfied: charset-normalizer<4,>=2 in /usr/local/lib/python3.10/dist-packages (from requests<3.0.0,>=2.28.2->jill) (3.3.2)\n",
            "Requirement already satisfied: idna<4,>=2.5 in /usr/local/lib/python3.10/dist-packages (from requests<3.0.0,>=2.28.2->jill) (3.4)\n",
            "Requirement already satisfied: urllib3<3,>=1.21.1 in /usr/local/lib/python3.10/dist-packages (from requests<3.0.0,>=2.28.2->jill) (2.0.7)\n",
            "Requirement already satisfied: certifi>=2017.4.17 in /usr/local/lib/python3.10/dist-packages (from requests<3.0.0,>=2.28.2->jill) (2023.7.22)\n",
            "\u001b[1mJILL - Julia Installer 4 Linux (MacOS, Windows and FreeBSD) -- Light\u001b[0m\n",
            "\n",
            "\u001b[92mquerying release information from https://julialang-s3.julialang.org/bin/versions.json\u001b[0m\n",
            "julia 1.9.4 already installed.\n",
            "True\n"
          ]
        }
      ],
      "source": [
        "# install julia for testing MIDI.jl\n",
        "!pip install jill\n",
        "!jill install -c True"
      ]
    },
    {
      "cell_type": "code",
      "execution_count": 15,
      "metadata": {
        "id": "KKKW8JljLUFR"
      },
      "outputs": [],
      "source": [
        "import mido, music21\n",
        "import pretty_midi as pm\n",
        "import miditoolkit as mtk\n",
        "p = \"mahler.mid\""
      ]
    },
    {
      "cell_type": "code",
      "source": [
        "# %%timeit\n",
        "# midi_jl.load(p)"
      ],
      "metadata": {
        "id": "AwG9h0wPMsSh"
      },
      "execution_count": 16,
      "outputs": []
    },
    {
      "cell_type": "code",
      "execution_count": 17,
      "metadata": {
        "colab": {
          "base_uri": "https://localhost:8080/"
        },
        "id": "BZ7zTxdGLUFR",
        "outputId": "e451a265-42fd-47fc-b48d-5c83a94dc14d"
      },
      "outputs": [
        {
          "output_type": "stream",
          "name": "stdout",
          "text": [
            "23.3 ms ± 12.3 ms per loop (mean ± std. dev. of 7 runs, 100 loops each)\n"
          ]
        }
      ],
      "source": [
        "%%timeit\n",
        "Score(p)"
      ]
    },
    {
      "cell_type": "code",
      "execution_count": 18,
      "metadata": {
        "colab": {
          "base_uri": "https://localhost:8080/"
        },
        "id": "PFPvSmJBLUFS",
        "outputId": "534187bb-c8c3-4a61-bf57-56fb34be2c86"
      },
      "outputs": [
        {
          "output_type": "stream",
          "name": "stdout",
          "text": [
            "7.15 s ± 2.11 s per loop (mean ± std. dev. of 7 runs, 1 loop each)\n"
          ]
        }
      ],
      "source": [
        "%%timeit\n",
        "# mido is writen in pure python, and only parsing midi file to event level\n",
        "mido.MidiFile(p)"
      ]
    },
    {
      "cell_type": "code",
      "execution_count": 19,
      "metadata": {
        "colab": {
          "base_uri": "https://localhost:8080/"
        },
        "id": "wGJ0OnE6LUFS",
        "outputId": "0479eff7-3dc4-479d-f02b-f09734e7f928"
      },
      "outputs": [
        {
          "output_type": "stream",
          "name": "stdout",
          "text": [
            "7.1 s ± 1.64 s per loop (mean ± std. dev. of 7 runs, 1 loop each)\n"
          ]
        }
      ],
      "source": [
        "%%timeit\n",
        "pm.PrettyMIDI(p)"
      ]
    },
    {
      "cell_type": "code",
      "execution_count": 20,
      "metadata": {
        "colab": {
          "base_uri": "https://localhost:8080/"
        },
        "id": "kTF9cTUBLUFT",
        "outputId": "6fbf0963-1329-47d7-ccc9-227b8914b9f1"
      },
      "outputs": [
        {
          "output_type": "stream",
          "name": "stdout",
          "text": [
            "6.73 s ± 1.54 s per loop (mean ± std. dev. of 7 runs, 1 loop each)\n"
          ]
        }
      ],
      "source": [
        "%%timeit\n",
        "mtk.MidiFile(p)"
      ]
    },
    {
      "cell_type": "code",
      "execution_count": 21,
      "metadata": {
        "colab": {
          "base_uri": "https://localhost:8080/"
        },
        "id": "4aRmyoYPLUFT",
        "outputId": "effd7541-df89-4c87-8618-325d2073664c"
      },
      "outputs": [
        {
          "output_type": "stream",
          "name": "stdout",
          "text": [
            "10.2 s ± 558 ms per loop (mean ± std. dev. of 7 runs, 1 loop each)\n"
          ]
        }
      ],
      "source": [
        "%%timeit\n",
        "music21.converter.parse(p)"
      ]
    },
    {
      "cell_type": "code",
      "execution_count": 22,
      "metadata": {
        "id": "f2-NDVlELUFT"
      },
      "outputs": [],
      "source": [
        "jl_script = f\"\"\"\n",
        "import Pkg\n",
        "Pkg.add(\"MIDI\")\n",
        "Pkg.add(\"BenchmarkTools\")\n",
        "using BenchmarkTools\n",
        "using MIDI\n",
        "b = @benchmark load(\"{p}\")\n",
        "println(\"first run: \", b)\n",
        "b = @benchmark load(\"{p}\")\n",
        "println(\"scecond run: \", b)\n",
        "\"\"\"\n",
        "with open(\"bench.jl\", \"w\") as f:\n",
        "  f.write(jl_script)"
      ]
    },
    {
      "cell_type": "code",
      "source": [
        "!julia bench.jl"
      ],
      "metadata": {
        "colab": {
          "base_uri": "https://localhost:8080/"
        },
        "id": "NJPsOcRDSxdg",
        "outputId": "34ba1bfc-320c-4b33-eb58-6a67a69fd31b"
      },
      "execution_count": 23,
      "outputs": [
        {
          "output_type": "stream",
          "name": "stdout",
          "text": [
            "\u001b[32m\u001b[1m   Resolving\u001b[22m\u001b[39m package versions...\n",
            "\u001b[32m\u001b[1m  No Changes\u001b[22m\u001b[39m to `~/.julia/environments/v1.9/Project.toml`\n",
            "\u001b[32m\u001b[1m  No Changes\u001b[22m\u001b[39m to `~/.julia/environments/v1.9/Manifest.toml`\n",
            "\u001b[?25l\u001b[?25h\u001b[2K\u001b[?25h\u001b[32m\u001b[1m   Resolving\u001b[22m\u001b[39m package versions...\n",
            "\u001b[32m\u001b[1m  No Changes\u001b[22m\u001b[39m to `~/.julia/environments/v1.9/Project.toml`\n",
            "\u001b[32m\u001b[1m  No Changes\u001b[22m\u001b[39m to `~/.julia/environments/v1.9/Manifest.toml`\n",
            "\u001b[?25l\u001b[?25h\u001b[2K\u001b[?25hfirst run: Trial(132.627 ms)\n",
            "scecond run: Trial(132.829 ms)\n"
          ]
        }
      ]
    },
    {
      "cell_type": "markdown",
      "source": [
        "## Bench Processing\n"
      ],
      "metadata": {
        "id": "P4WwHyBwd2JC"
      }
    },
    {
      "cell_type": "code",
      "source": [
        "score = Score(p)\n",
        "score2 = score.copy()"
      ],
      "metadata": {
        "id": "nl7QrFqqeA0K"
      },
      "execution_count": 24,
      "outputs": []
    },
    {
      "cell_type": "code",
      "source": [
        "%%timeit\n",
        "score.copy()"
      ],
      "metadata": {
        "colab": {
          "base_uri": "https://localhost:8080/"
        },
        "id": "9kkPPSLYekkt",
        "outputId": "fdba9ddb-a5f2-454a-e5fc-7423c797599e"
      },
      "execution_count": 25,
      "outputs": [
        {
          "output_type": "stream",
          "name": "stdout",
          "text": [
            "276 µs ± 16.3 µs per loop (mean ± std. dev. of 7 runs, 1000 loops each)\n"
          ]
        }
      ]
    },
    {
      "cell_type": "code",
      "source": [
        "%%timeit\n",
        "score.shift_pitch(10)"
      ],
      "metadata": {
        "colab": {
          "base_uri": "https://localhost:8080/"
        },
        "id": "SX7QdfpQd1eW",
        "outputId": "012d0540-fe24-4ceb-972c-8f1ac9707817"
      },
      "execution_count": 26,
      "outputs": [
        {
          "output_type": "stream",
          "name": "stdout",
          "text": [
            "364 µs ± 6.46 µs per loop (mean ± std. dev. of 7 runs, 1000 loops each)\n"
          ]
        }
      ]
    },
    {
      "cell_type": "code",
      "source": [
        "%%timeit\n",
        "score2.filter_notes(lambda note: note.pitch > 60)"
      ],
      "metadata": {
        "colab": {
          "base_uri": "https://localhost:8080/"
        },
        "id": "ysBb4JYreZIJ",
        "outputId": "63c4c359-ae43-4365-8bc8-6f2a5a09e6ba"
      },
      "execution_count": 27,
      "outputs": [
        {
          "output_type": "stream",
          "name": "stdout",
          "text": [
            "31.6 ms ± 348 µs per loop (mean ± std. dev. of 7 runs, 10 loops each)\n"
          ]
        }
      ]
    },
    {
      "cell_type": "code",
      "source": [
        "%%timeit\n",
        "[t.note_array() for t in score.tracks]"
      ],
      "metadata": {
        "colab": {
          "base_uri": "https://localhost:8080/"
        },
        "id": "_F_wym9VeE_l",
        "outputId": "0d6677e1-a26f-4c19-d294-c9acb313d154"
      },
      "execution_count": 28,
      "outputs": [
        {
          "output_type": "stream",
          "name": "stdout",
          "text": [
            "226 µs ± 8.9 µs per loop (mean ± std. dev. of 7 runs, 1000 loops each)\n"
          ]
        }
      ]
    },
    {
      "cell_type": "code",
      "source": [
        "%%timeit\n",
        "[(t.onset_pianoroll(), t.frame_pianoroll()) for t in score.tracks]"
      ],
      "metadata": {
        "colab": {
          "base_uri": "https://localhost:8080/"
        },
        "id": "w3mQlDdkeNbK",
        "outputId": "36028a05-3bcd-4473-e3a4-58e785f369bc"
      },
      "execution_count": 29,
      "outputs": [
        {
          "output_type": "stream",
          "name": "stdout",
          "text": [
            "10.3 ms ± 389 µs per loop (mean ± std. dev. of 7 runs, 100 loops each)\n"
          ]
        }
      ]
    }
  ],
  "metadata": {
    "kernelspec": {
      "display_name": "Python 3",
      "language": "python",
      "name": "python3"
    },
    "language_info": {
      "codemirror_mode": {
        "name": "ipython",
        "version": 3
      },
      "file_extension": ".py",
      "mimetype": "text/x-python",
      "name": "python",
      "nbconvert_exporter": "python",
      "pygments_lexer": "ipython3",
      "version": "3.11.5"
    },
    "orig_nbformat": 4,
    "colab": {
      "provenance": []
    }
  },
  "nbformat": 4,
  "nbformat_minor": 0
}